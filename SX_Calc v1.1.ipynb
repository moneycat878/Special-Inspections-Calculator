{
  "cells": [
    {
      "cell_type": "markdown",
      "source": [
        "**Deviations**\n",
        "1.   Spec Insp: +-3d. If interval >= 90d: +-15d.\n",
        "2.   Rebase: Next due date will start from initiated date.\n",
        "3.   PR Gear: Only +-3d for all gear.\n",
        "4.   Flight Hour or Landing Inspections: +-10% (PMIC states all inspections other than calendar days such as hours go off NAMP policy, which is always +-10%).\n",
        "\n",
        "NOTE: IF REBASE: INSPECTION'S TASK DEADLINE NEEDS UPDATING ONCE INSP INITIATED."
      ],
      "metadata": {
        "id": "BmeuW4FUihh5"
      }
    },
    {
      "cell_type": "code",
      "execution_count": null,
      "metadata": {
        "id": "UMVnUPYhnwYb"
      },
      "outputs": [],
      "source": [
        "import datetime\n",
        "\n",
        "today = datetime.date.today()\n",
        "\n",
        "def SpecInsp(mode):\n",
        "  #Get when due\n",
        "  dateinput = input(\"Enter your when due date (YYYY-MM-DD): \")\n",
        "  year, month, day = map(int, dateinput.split('-'))\n",
        "  whendue = datetime.date(year, month, day)\n",
        "\n",
        "  #Get inspection interval\n",
        "  insp_amt = int(input(\"Enter days of inspection interval: \"))\n",
        "\n",
        "  #Determine deviation\n",
        "  if mode == 3:\n",
        "    deviation = 3\n",
        "  elif insp_amt >= 90:\n",
        "    deviation = 15\n",
        "  else:\n",
        "    deviation = 3\n",
        "\n",
        "  #Calculate +- deviation from whendue\n",
        "  entersw = whendue - datetime.timedelta(days=deviation)\n",
        "  dropdead = whendue + datetime.timedelta(days=deviation)\n",
        "\n",
        "  #Next due determines if rebase\n",
        "  if mode == 2:\n",
        "    nextdue = today + datetime.timedelta(days=insp_amt)\n",
        "  else:\n",
        "    nextdue = whendue + datetime.timedelta(days=insp_amt)\n",
        "\n",
        "\n",
        "  my_list = [entersw, today, whendue, nextdue, dropdead]\n",
        "  for ind in range(len(my_list)):\n",
        "    my_list[ind] = my_list[ind].strftime(\"%d%b%Y\")\n",
        "\n",
        "  print(\"\\nENTERS WINDOW:\", my_list[0],\", INITIATED:\", my_list[1],\", WHEN DUE:\", my_list[2],\", NEXT DUE:\", my_list[3],\", DROPS DEAD:\", my_list[4],\".\")\n",
        "\n",
        "\n",
        "def HourInsp(mode):\n",
        "  #Get when due\n",
        "  whendue = float(input(\"Enter your when due (integer): \"))\n",
        "\n",
        "  #Get inspection interval\n",
        "  insp_amt = float(input(\"Enter inspection interval (integer): \"))\n",
        "\n",
        "  #Get current amount\n",
        "  current = float(input(\"Enter current usage: \"))\n",
        "\n",
        "  #Calculate +- deviation from whendue\n",
        "  deviation = insp_amt * .1\n",
        "\n",
        "  entersw = whendue - deviation\n",
        "  dropdead = whendue + deviation\n",
        "\n",
        "  #Next due determines if rebase\n",
        "  if mode == 5:\n",
        "    nextdue = current + insp_amt\n",
        "  else:\n",
        "    nextdue = whendue + insp_amt\n",
        "\n",
        "  my_list = [entersw, current, whendue, nextdue, dropdead]\n",
        "  print(\"\\nENTERS WINDOW:\", my_list[0],\", INITIATED:\", my_list[1],\", WHEN DUE:\", my_list[2],\", NEXT DUE:\", my_list[3],\", DROPS DEAD:\", my_list[4],\". \\n\")\n",
        "\n",
        "mode = int(input(\"Select which inspection to calculate: \\n1. Special Inspection \\n2. Special Inspection *REBASE* \\n3. PR Inspection \\n4. Flight Hours or Landings \\n5. Flight Hours or Landings *REBASE* \\n\"))\n",
        "if mode >= 4:\n",
        "  HourInsp(mode)\n",
        "else:\n",
        "  SpecInsp(mode)\n",
        "\n",
        "\n",
        "\n",
        "\n",
        "#Incorrect initiated/today date based off timezone location\n",
        "#ask user to verify/modify current date\n"
      ]
    }
  ],
  "metadata": {
    "colab": {
      "provenance": []
    },
    "kernelspec": {
      "display_name": "Python 3",
      "name": "python3"
    },
    "language_info": {
      "name": "python"
    }
  },
  "nbformat": 4,
  "nbformat_minor": 0
}